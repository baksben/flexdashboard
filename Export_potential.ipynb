{
 "cells": [
  {
   "cell_type": "code",
   "execution_count": 3,
   "metadata": {},
   "outputs": [],
   "source": [
    "import pandas as pd\n",
    "import numpy as np\n",
    "import re"
   ]
  },
  {
   "attachments": {},
   "cell_type": "markdown",
   "metadata": {},
   "source": [
    "1. value: Potential export value in 2027 based on projections of supply, demand, market access conditions and bilateral ease of trade, expressed in $\n",
    "2. exportValue: Value of actual exports based on five-year averages of direct and mirror reports\n",
    "3. realizedPotential: C/B if C<B, 1 if C>B\n",
    "4. lineLength: Projected market share (corrected for global tariff advantages, and subject to a re-export filter)\n",
    "5. bubbleSize: Projected import value (accounting for product-specific tariff and distance advantages)\n",
    "6. lineWidth: Ease of trade with the target market, independent of size or complementarity in trade structure\n",
    "7. gap: Extent to which potential exports deviate from actual exports, and thereby indicative of room for export growth\n",
    "8. rank: Potential export value in 2027 based on projections of supply, demand, market access conditions and bilateral ease of trade, expressed in $"
   ]
  },
  {
   "cell_type": "code",
   "execution_count": 4,
   "metadata": {},
   "outputs": [
    {
     "data": {
      "text/html": [
       "<div>\n",
       "<style scoped>\n",
       "    .dataframe tbody tr th:only-of-type {\n",
       "        vertical-align: middle;\n",
       "    }\n",
       "\n",
       "    .dataframe tbody tr th {\n",
       "        vertical-align: top;\n",
       "    }\n",
       "\n",
       "    .dataframe thead th {\n",
       "        text-align: right;\n",
       "    }\n",
       "</style>\n",
       "<table border=\"1\" class=\"dataframe\">\n",
       "  <thead>\n",
       "    <tr style=\"text-align: right;\">\n",
       "      <th></th>\n",
       "      <th>product code</th>\n",
       "      <th>value (Potential export value in 2027 based on projections of supply, demand, market access conditions and bilateral ease of trade, expressed in $)</th>\n",
       "      <th>exportValue (Value of actual exports based on five-year averages of direct and mirror reports)</th>\n",
       "      <th>realizedPotential (C/B if C&lt;B, 1 if C&gt;B)</th>\n",
       "      <th>lineLength (Projected market share (corrected for global tariff advantages, and subject to a re-export filter))</th>\n",
       "      <th>bubbleSize (Projected import value (accounting for product-specific tariff and distance advantages))</th>\n",
       "      <th>lineWidth (Ease of trade with the target market, independent of size or complementarity in trade structure)</th>\n",
       "      <th>tariff</th>\n",
       "      <th>xik</th>\n",
       "      <th>mjk</th>\n",
       "      <th>xij</th>\n",
       "      <th>gap (Extent to which potential exports deviate from actual exports, and thereby indicative of room for export growth)</th>\n",
       "      <th>rank (Potential export value in 2027 based on projections of supply, demand, market access conditions and bilateral ease of trade, expressed in $)</th>\n",
       "      <th>from</th>\n",
       "      <th>to</th>\n",
       "      <th>code</th>\n",
       "      <th>name</th>\n",
       "      <th>color</th>\n",
       "      <th>parent</th>\n",
       "    </tr>\n",
       "  </thead>\n",
       "  <tbody>\n",
       "    <tr>\n",
       "      <th>0</th>\n",
       "      <td>1001Xb</td>\n",
       "      <td>3.248636e+07</td>\n",
       "      <td>358000.0</td>\n",
       "      <td>0.01102</td>\n",
       "      <td>161.860859</td>\n",
       "      <td>5.617304e+07</td>\n",
       "      <td>1.812191</td>\n",
       "      <td>0.025</td>\n",
       "      <td>6.159614e+09</td>\n",
       "      <td>1.000327e+08</td>\n",
       "      <td>1.467541e+08</td>\n",
       "      <td>0.98898</td>\n",
       "      <td>1</td>\n",
       "      <td>643</td>\n",
       "      <td>4</td>\n",
       "      <td>4</td>\n",
       "      <td>Afghanistan</td>\n",
       "      <td>#309d6d</td>\n",
       "      <td>{'code': '12', 'name': 'South Asia', 'color': ...</td>\n",
       "    </tr>\n",
       "    <tr>\n",
       "      <th>1</th>\n",
       "      <td>151219</td>\n",
       "      <td>2.237364e+07</td>\n",
       "      <td>44721000.0</td>\n",
       "      <td>1.00000</td>\n",
       "      <td>113.379827</td>\n",
       "      <td>6.956521e+07</td>\n",
       "      <td>1.812191</td>\n",
       "      <td>0.025</td>\n",
       "      <td>4.942541e+08</td>\n",
       "      <td>5.824338e+07</td>\n",
       "      <td>1.467541e+08</td>\n",
       "      <td>0.00000</td>\n",
       "      <td>2</td>\n",
       "      <td>643</td>\n",
       "      <td>4</td>\n",
       "      <td>4</td>\n",
       "      <td>Afghanistan</td>\n",
       "      <td>#309d6d</td>\n",
       "      <td>{'code': '12', 'name': 'South Asia', 'color': ...</td>\n",
       "    </tr>\n",
       "  </tbody>\n",
       "</table>\n",
       "</div>"
      ],
      "text/plain": [
       "  product code  \\\n",
       "0       1001Xb   \n",
       "1       151219   \n",
       "\n",
       "   value (Potential export value in 2027 based on projections of supply, demand, market access conditions and bilateral ease of trade, expressed in $)  \\\n",
       "0                                       3.248636e+07                                                                                                     \n",
       "1                                       2.237364e+07                                                                                                     \n",
       "\n",
       "   exportValue (Value of actual exports based on five-year averages of direct and mirror reports)  \\\n",
       "0                                           358000.0                                                \n",
       "1                                         44721000.0                                                \n",
       "\n",
       "   realizedPotential (C/B if C<B, 1 if C>B)  \\\n",
       "0                                   0.01102   \n",
       "1                                   1.00000   \n",
       "\n",
       "   lineLength (Projected market share (corrected for global tariff advantages, and subject to a re-export filter))  \\\n",
       "0                                         161.860859                                                                 \n",
       "1                                         113.379827                                                                 \n",
       "\n",
       "   bubbleSize (Projected import value (accounting for product-specific tariff and distance advantages))  \\\n",
       "0                                       5.617304e+07                                                      \n",
       "1                                       6.956521e+07                                                      \n",
       "\n",
       "   lineWidth (Ease of trade with the target market, independent of size or complementarity in trade structure)  \\\n",
       "0                                           1.812191                                                             \n",
       "1                                           1.812191                                                             \n",
       "\n",
       "   tariff           xik           mjk           xij  \\\n",
       "0   0.025  6.159614e+09  1.000327e+08  1.467541e+08   \n",
       "1   0.025  4.942541e+08  5.824338e+07  1.467541e+08   \n",
       "\n",
       "   gap (Extent to which potential exports deviate from actual exports, and thereby indicative of room for export growth)  \\\n",
       "0                                            0.98898                                                                       \n",
       "1                                            0.00000                                                                       \n",
       "\n",
       "   rank (Potential export value in 2027 based on projections of supply, demand, market access conditions and bilateral ease of trade, expressed in $)  \\\n",
       "0                                                  1                                                                                                    \n",
       "1                                                  2                                                                                                    \n",
       "\n",
       "   from  to  code         name    color  \\\n",
       "0   643   4     4  Afghanistan  #309d6d   \n",
       "1   643   4     4  Afghanistan  #309d6d   \n",
       "\n",
       "                                              parent  \n",
       "0  {'code': '12', 'name': 'South Asia', 'color': ...  \n",
       "1  {'code': '12', 'name': 'South Asia', 'color': ...  "
      ]
     },
     "execution_count": 4,
     "metadata": {},
     "output_type": "execute_result"
    }
   ],
   "source": [
    "df3 = pd.read_excel('document_3.xlsx')\n",
    "df3.head(2)"
   ]
  },
  {
   "cell_type": "code",
   "execution_count": 5,
   "metadata": {},
   "outputs": [
    {
     "name": "stdout",
     "output_type": "stream",
     "text": [
      "<class 'pandas.core.frame.DataFrame'>\n",
      "RangeIndex: 392542 entries, 0 to 392541\n",
      "Data columns (total 19 columns):\n",
      " #   Column                                                                                                                                               Non-Null Count   Dtype  \n",
      "---  ------                                                                                                                                               --------------   -----  \n",
      " 0   product code                                                                                                                                         392542 non-null  object \n",
      " 1   value (Potential export value in 2027 based on projections of supply, demand, market access conditions and bilateral ease of trade, expressed in $)  392542 non-null  float64\n",
      " 2   exportValue (Value of actual exports based on five-year averages of direct and mirror reports)                                                       392542 non-null  float64\n",
      " 3   realizedPotential (C/B if C<B, 1 if C>B)                                                                                                             392542 non-null  float64\n",
      " 4   lineLength (Projected market share (corrected for global tariff advantages, and subject to a re-export filter))                                      392542 non-null  float64\n",
      " 5   bubbleSize (Projected import value (accounting for product-specific tariff and distance advantages))                                                 392542 non-null  float64\n",
      " 6   lineWidth (Ease of trade with the target market, independent of size or complementarity in trade structure)                                          392542 non-null  float64\n",
      " 7   tariff                                                                                                                                               377320 non-null  float64\n",
      " 8   xik                                                                                                                                                  392542 non-null  float64\n",
      " 9   mjk                                                                                                                                                  392542 non-null  float64\n",
      " 10  xij                                                                                                                                                  392542 non-null  float64\n",
      " 11  gap (Extent to which potential exports deviate from actual exports, and thereby indicative of room for export growth)                                392542 non-null  float64\n",
      " 12  rank (Potential export value in 2027 based on projections of supply, demand, market access conditions and bilateral ease of trade, expressed in $)   392542 non-null  int64  \n",
      " 13  from                                                                                                                                                 392542 non-null  int64  \n",
      " 14  to                                                                                                                                                   392542 non-null  int64  \n",
      " 15  code                                                                                                                                                 392542 non-null  int64  \n",
      " 16  name                                                                                                                                                 392542 non-null  object \n",
      " 17  color                                                                                                                                                392542 non-null  object \n",
      " 18  parent                                                                                                                                               392542 non-null  object \n",
      "dtypes: float64(11), int64(4), object(4)\n",
      "memory usage: 56.9+ MB\n"
     ]
    }
   ],
   "source": [
    "df3.info()"
   ]
  },
  {
   "cell_type": "code",
   "execution_count": 6,
   "metadata": {},
   "outputs": [
    {
     "data": {
      "text/plain": [
       "Index(['product code',\n",
       "       'value (Potential export value in 2027 based on projections of supply, demand, market access conditions and bilateral ease of trade, expressed in $)',\n",
       "       'exportValue (Value of actual exports based on five-year averages of direct and mirror reports)',\n",
       "       'realizedPotential (C/B if C<B, 1 if C>B)',\n",
       "       'lineLength (Projected market share (corrected for global tariff advantages, and subject to a re-export filter))',\n",
       "       'bubbleSize (Projected import value (accounting for product-specific tariff and distance advantages))',\n",
       "       'lineWidth (Ease of trade with the target market, independent of size or complementarity in trade structure)',\n",
       "       'tariff', 'xik', 'mjk', 'xij',\n",
       "       'gap (Extent to which potential exports deviate from actual exports, and thereby indicative of room for export growth)',\n",
       "       'rank (Potential export value in 2027 based on projections of supply, demand, market access conditions and bilateral ease of trade, expressed in $)',\n",
       "       'from', 'to', 'code', 'name', 'color', 'parent'],\n",
       "      dtype='object')"
      ]
     },
     "execution_count": 6,
     "metadata": {},
     "output_type": "execute_result"
    }
   ],
   "source": [
    "df3.columns"
   ]
  },
  {
   "cell_type": "code",
   "execution_count": 7,
   "metadata": {},
   "outputs": [
    {
     "data": {
      "text/plain": [
       "Index(['product code', 'value', 'exportValue', 'realizedPotential',\n",
       "       'lineLength', 'bubbleSize', 'lineWidth', 'tariff', 'gap', 'rank',\n",
       "       'from', 'to', 'code', 'name', 'color', 'parent'],\n",
       "      dtype='object')"
      ]
     },
     "execution_count": 7,
     "metadata": {},
     "output_type": "execute_result"
    }
   ],
   "source": [
    "df3.rename(columns={'value (Potential export value in 2027 based on projections of supply, demand, market access conditions and bilateral ease of trade, expressed in $)': 'value', 'exportValue (Value of actual exports based on five-year averages of direct and mirror reports)':'exportValue', 'realizedPotential (C/B if C<B, 1 if C>B)': 'realizedPotential', 'lineLength (Projected market share (corrected for global tariff advantages, and subject to a re-export filter))': 'lineLength', 'bubbleSize (Projected import value (accounting for product-specific tariff and distance advantages))': 'bubbleSize', 'lineWidth (Ease of trade with the target market, independent of size or complementarity in trade structure)': 'lineWidth', 'gap (Extent to which potential exports deviate from actual exports, and thereby indicative of room for export growth)': 'gap', 'rank (Potential export value in 2027 based on projections of supply, demand, market access conditions and bilateral ease of trade, expressed in $)': 'rank'}, inplace=True)\n",
    "df3 = df3.drop(['xik', 'mjk', 'xij'], axis=1)\n",
    "df3.columns\n"
   ]
  },
  {
   "cell_type": "code",
   "execution_count": 8,
   "metadata": {},
   "outputs": [
    {
     "data": {
      "text/html": [
       "<div>\n",
       "<style scoped>\n",
       "    .dataframe tbody tr th:only-of-type {\n",
       "        vertical-align: middle;\n",
       "    }\n",
       "\n",
       "    .dataframe tbody tr th {\n",
       "        vertical-align: top;\n",
       "    }\n",
       "\n",
       "    .dataframe thead th {\n",
       "        text-align: right;\n",
       "    }\n",
       "</style>\n",
       "<table border=\"1\" class=\"dataframe\">\n",
       "  <thead>\n",
       "    <tr style=\"text-align: right;\">\n",
       "      <th></th>\n",
       "      <th>product code</th>\n",
       "      <th>value</th>\n",
       "      <th>exportValue</th>\n",
       "      <th>realizedPotential</th>\n",
       "      <th>lineLength</th>\n",
       "      <th>bubbleSize</th>\n",
       "      <th>lineWidth</th>\n",
       "      <th>tariff</th>\n",
       "      <th>gap</th>\n",
       "      <th>rank</th>\n",
       "      <th>from</th>\n",
       "      <th>to</th>\n",
       "      <th>code</th>\n",
       "      <th>name</th>\n",
       "      <th>color</th>\n",
       "      <th>parent</th>\n",
       "    </tr>\n",
       "  </thead>\n",
       "  <tbody>\n",
       "    <tr>\n",
       "      <th>0</th>\n",
       "      <td>1001Xb</td>\n",
       "      <td>3.248636e+07</td>\n",
       "      <td>358000.0</td>\n",
       "      <td>0.01102</td>\n",
       "      <td>161.860859</td>\n",
       "      <td>5.617304e+07</td>\n",
       "      <td>1.812191</td>\n",
       "      <td>0.025</td>\n",
       "      <td>0.98898</td>\n",
       "      <td>1</td>\n",
       "      <td>643</td>\n",
       "      <td>4</td>\n",
       "      <td>4</td>\n",
       "      <td>Afghanistan</td>\n",
       "      <td>#309d6d</td>\n",
       "      <td>{'code': '12', 'name': 'South Asia', 'color': ...</td>\n",
       "    </tr>\n",
       "    <tr>\n",
       "      <th>1</th>\n",
       "      <td>151219</td>\n",
       "      <td>2.237364e+07</td>\n",
       "      <td>44721000.0</td>\n",
       "      <td>1.00000</td>\n",
       "      <td>113.379827</td>\n",
       "      <td>6.956521e+07</td>\n",
       "      <td>1.812191</td>\n",
       "      <td>0.025</td>\n",
       "      <td>0.00000</td>\n",
       "      <td>2</td>\n",
       "      <td>643</td>\n",
       "      <td>4</td>\n",
       "      <td>4</td>\n",
       "      <td>Afghanistan</td>\n",
       "      <td>#309d6d</td>\n",
       "      <td>{'code': '12', 'name': 'South Asia', 'color': ...</td>\n",
       "    </tr>\n",
       "  </tbody>\n",
       "</table>\n",
       "</div>"
      ],
      "text/plain": [
       "  product code         value  exportValue  realizedPotential  lineLength  \\\n",
       "0       1001Xb  3.248636e+07     358000.0            0.01102  161.860859   \n",
       "1       151219  2.237364e+07   44721000.0            1.00000  113.379827   \n",
       "\n",
       "     bubbleSize  lineWidth  tariff      gap  rank  from  to  code  \\\n",
       "0  5.617304e+07   1.812191   0.025  0.98898     1   643   4     4   \n",
       "1  6.956521e+07   1.812191   0.025  0.00000     2   643   4     4   \n",
       "\n",
       "          name    color                                             parent  \n",
       "0  Afghanistan  #309d6d  {'code': '12', 'name': 'South Asia', 'color': ...  \n",
       "1  Afghanistan  #309d6d  {'code': '12', 'name': 'South Asia', 'color': ...  "
      ]
     },
     "execution_count": 8,
     "metadata": {},
     "output_type": "execute_result"
    }
   ],
   "source": [
    "df3.head(2)"
   ]
  },
  {
   "cell_type": "code",
   "execution_count": null,
   "metadata": {},
   "outputs": [],
   "source": []
  }
 ],
 "metadata": {
  "kernelspec": {
   "display_name": "Python 3",
   "language": "python",
   "name": "python3"
  },
  "language_info": {
   "codemirror_mode": {
    "name": "ipython",
    "version": 3
   },
   "file_extension": ".py",
   "mimetype": "text/x-python",
   "name": "python",
   "nbconvert_exporter": "python",
   "pygments_lexer": "ipython3",
   "version": "3.10.8 (tags/v3.10.8:aaaf517, Oct 11 2022, 16:50:30) [MSC v.1933 64 bit (AMD64)]"
  },
  "orig_nbformat": 4,
  "vscode": {
   "interpreter": {
    "hash": "146e77ac443eb861a34f782ec51035a38c2fe175c06bd547c9cb339a58385ef1"
   }
  }
 },
 "nbformat": 4,
 "nbformat_minor": 2
}
